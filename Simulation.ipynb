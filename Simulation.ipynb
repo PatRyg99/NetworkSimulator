{
 "cells": [
  {
   "cell_type": "code",
   "execution_count": 1,
   "metadata": {},
   "outputs": [
    {
     "name": "stdout",
     "output_type": "stream",
     "text": [
      "Populating the interactive namespace from numpy and matplotlib\n"
     ]
    },
    {
     "name": "stderr",
     "output_type": "stream",
     "text": [
      "C:\\Users\\Patryk\\Anaconda3\\envs\\tensorflow_2_gpu\\lib\\site-packages\\IPython\\core\\magics\\pylab.py:160: UserWarning: pylab import has clobbered these variables: ['pylab']\n",
      "`%matplotlib` prevents importing * from pylab and numpy\n",
      "  \"\\n`%matplotlib` prevents importing * from pylab and numpy\"\n"
     ]
    }
   ],
   "source": [
    "import time\n",
    "\n",
    "import matplotlib.pyplot as plt\n",
    "import networkx as nx\n",
    "import numpy as np\n",
    "import requests\n",
    "import pylab\n",
    "\n",
    "from IPython.display import clear_output\n",
    "from networkx.drawing.nx_agraph import graphviz_layout\n",
    "\n",
    "%pylab inline"
   ]
  },
  {
   "cell_type": "code",
   "execution_count": 2,
   "metadata": {},
   "outputs": [],
   "source": [
    "import scripts.intensity_matrix as intensity_matrix\n",
    "import scripts.graph as graph\n",
    "import scripts.route as route\n",
    "from scripts.simulator import Simulator\n",
    "from scripts.package import Package, packages_from_matrix"
   ]
  },
  {
   "cell_type": "code",
   "execution_count": 3,
   "metadata": {},
   "outputs": [
    {
     "name": "stdout",
     "output_type": "stream",
     "text": [
      "80.0\n"
     ]
    }
   ],
   "source": [
    "G = graph.generate(\"topologies/no_center_spyder.txt\", capacity_param = 3)\n",
    "\n",
    "matrix = intensity_matrix.generate([1,1], 0.2)\n",
    "packages = packages_from_matrix(matrix)\n",
    "\n",
    "simulator = Simulator(G, packages)\n",
    "print(sum(matrix))"
   ]
  },
  {
   "cell_type": "code",
   "execution_count": 4,
   "metadata": {
    "scrolled": false
   },
   "outputs": [
    {
     "name": "stdout",
     "output_type": "stream",
     "text": [
      "\n",
      " Timer  Infallibilty\n",
      "     1      0.031666\n",
      "     2      0.038514\n",
      "     3      0.054514\n",
      "     4      0.052801\n",
      "     5      0.049720\n",
      "     6      0.053679\n",
      "     7      0.051406\n",
      "     8      0.049824\n",
      "     9      0.048354\n",
      "    10      0.049242\n",
      "    11      0.052530\n",
      "    12      0.047854\n",
      "    13      0.047053\n",
      "    14      0.056926\n",
      "    15      0.056194\n",
      "    16      0.048956\n",
      "    17      0.056451\n",
      "    18      0.050214\n",
      "    19      0.047116\n",
      "    20      0.045888\n",
      "Waited:  0\n"
     ]
    }
   ],
   "source": [
    "# Simulator run with timeout of 5 ticks\n",
    "simulator.run(20, timelapse = 0, reload_flag = True, draw = False)"
   ]
  },
  {
   "cell_type": "code",
   "execution_count": null,
   "metadata": {},
   "outputs": [],
   "source": []
  }
 ],
 "metadata": {
  "kernelspec": {
   "display_name": "Python 3",
   "language": "python",
   "name": "python3"
  },
  "language_info": {
   "codemirror_mode": {
    "name": "ipython",
    "version": 3
   },
   "file_extension": ".py",
   "mimetype": "text/x-python",
   "name": "python",
   "nbconvert_exporter": "python",
   "pygments_lexer": "ipython3",
   "version": "3.7.6"
  }
 },
 "nbformat": 4,
 "nbformat_minor": 4
}
